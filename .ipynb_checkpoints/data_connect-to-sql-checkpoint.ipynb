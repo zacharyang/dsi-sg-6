{
 "cells": [
  {
   "cell_type": "code",
   "execution_count": 32,
   "metadata": {},
   "outputs": [
    {
     "data": {
      "text/plain": [
       "' \\n\\nThis section cleans up the parsed data and stores it as tables in a Postgresql database.\\nAs the data is still in JSON format, some further parsing will have to be done before it can pass into SQL tables \\n\\n'"
      ]
     },
     "execution_count": 32,
     "metadata": {},
     "output_type": "execute_result"
    }
   ],
   "source": [
    "\"\"\" \n",
    "\n",
    "This section cleans up the parsed data and stores it as tables in a Postgresql database.\n",
    "As the data is still in JSON format, some further parsing will have to be done before it can pass into SQL tables \n",
    "\n",
    "\"\"\"\n"
   ]
  },
  {
   "cell_type": "code",
   "execution_count": null,
   "metadata": {
    "collapsed": true
   },
   "outputs": [],
   "source": [
    "import pandas as pd\n",
    "from pandas.io import sql\n",
    "import json\n",
    "import regex as re\n",
    "import psycopg2\n",
    "from sqlalchemy import create_engine"
   ]
  },
  {
   "cell_type": "code",
   "execution_count": 3,
   "metadata": {
    "collapsed": true
   },
   "outputs": [],
   "source": [
    "# Open the itunes dataset from data folder #\n",
    "\n",
    "with open('./data/apac_us_itunes_data.json', 'r') as file:\n",
    "    d=json.load(file)\n",
    "    file.close()\n",
    "\n",
    "apac_us_results=d"
   ]
  },
  {
   "cell_type": "code",
   "execution_count": null,
   "metadata": {
    "collapsed": true
   },
   "outputs": [],
   "source": [
    "if __name__="
   ]
  },
  {
   "cell_type": "code",
   "execution_count": 5,
   "metadata": {
    "collapsed": true
   },
   "outputs": [],
   "source": [
    "# Use pandas json parser to export to pandas dataframe object #\n",
    "\n",
    "itunes_main_df=pd.read_json('./data/apac_us_itunes_data.json',orient='records')"
   ]
  },
  {
   "cell_type": "code",
   "execution_count": 6,
   "metadata": {
    "collapsed": true
   },
   "outputs": [],
   "source": [
    "# Sub-setting the itunes data, and renaming to standardise ID keys across the different tables #\n",
    "# At this stage, we will be a bit \"greedy\" with the features and store more variables for a start # \n",
    "\n",
    "itunes_orig_features=['trackId','wrapperType','trackName','artistName',\\\n",
    "                      'trackRentalPrice','trackPrice','trackHdPrice',\\\n",
    "                      'trackHdRentalPrice','releaseDate','country','currency','longDescription']\n",
    "\n",
    "\n",
    "itunes_df=itunes_main_df[itunes_orig_features]\n",
    "\n",
    "\n",
    "itunes_features=['iTunes_ID','wrapperType','movie_title','artist_name',\\\n",
    "                 'rental_price','main_price','hd_main_price',\\\n",
    "                 'hd_rental_price','releaseDate','country','currency','synopsis']\n",
    "\n",
    "# Rename the itunes dataframe variables # \n",
    "itunes_df.columns=itunes_features\n",
    "\n"
   ]
  },
  {
   "cell_type": "code",
   "execution_count": 7,
   "metadata": {
    "collapsed": true
   },
   "outputs": [],
   "source": [
    "# Subsetting the OMdb search data #\n",
    "# This table is important as it contains both IMdb ID and the iTunes track ID # \n",
    "# which will be used to join the IMdb data and the iTunes data # \n",
    "\n",
    "OMdb_search_dat_df=pd.read_json('./data/OMdb_search_data.json',orient='columns')\n",
    "OMdb_search_dat_df.columns= ['IMdb_ID', 'TMdb_ID', 'iTunes_ID', 'search_strs', 'titles', 'years']"
   ]
  },
  {
   "cell_type": "code",
   "execution_count": 9,
   "metadata": {
    "collapsed": true
   },
   "outputs": [],
   "source": [
    "OMdb_results_df=pd.read_json('./data/OMdb_data.json',orient='records')"
   ]
  },
  {
   "cell_type": "code",
   "execution_count": 10,
   "metadata": {
    "collapsed": true
   },
   "outputs": [],
   "source": [
    "\n",
    "with open ('./data/OMdb_data.json','r') as file:\n",
    "    d=json.load(file)\n",
    "    file.close()\n",
    "    \n",
    "OMdb_dat=d"
   ]
  },
  {
   "cell_type": "code",
   "execution_count": 11,
   "metadata": {
    "collapsed": true
   },
   "outputs": [],
   "source": [
    "def unpack_ratings_OMdb(dat):\n",
    "    \n",
    "    \"\"\"Parse the OMdb data to unpack the movie ratings that are stored as a dictionary\"\"\" \n",
    "    \n",
    "    for i,a in enumerate(dat):\n",
    "        \n",
    "        a['RT_score']=a['Metacritic_score']=a['IMdb_score']='NaN'\n",
    "        \n",
    "        if len(a['Ratings'])==0:\n",
    "            pass\n",
    "        \n",
    "    # Iterate through the Ratings element, stored as a list of dictionaries #        \n",
    "        for b in a['Ratings']:\n",
    "\n",
    "            if b['Source'] == 'Internet Movie Database':\n",
    "                a['IMdb_score']= float(b['Value'][:3])*10\n",
    "            elif b['Source'] == 'Rotten Tomatoes':\n",
    "                a['RT_score']= float(b['Value'].split('%')[0])\n",
    "            elif b['Source'] == 'Metacritic':\n",
    "                a['Metacritic_score'] = float(b['Value'].split('/')[0])\n",
    "        \n",
    "        del a['Ratings']\n",
    "        \n",
    "    return dat\n"
   ]
  },
  {
   "cell_type": "code",
   "execution_count": 12,
   "metadata": {
    "collapsed": true
   },
   "outputs": [],
   "source": [
    "OMdb_rat_open=unpack_ratings_OMdb(OMdb_dat)"
   ]
  },
  {
   "cell_type": "code",
   "execution_count": 13,
   "metadata": {
    "collapsed": true
   },
   "outputs": [],
   "source": [
    "def pop_actors_and_directors(dat):\n",
    "    \n",
    "    \"\"\"Parse the string of and directors to take the first two only, and \n",
    "    store number of directors and number of actors credited in the movie\"\"\"\n",
    "    \n",
    "    for a in dat:\n",
    "        \n",
    "        ## Actors first, split by commas and store the first two + number of actors ## \n",
    "        a['actor_1']=a['actor_2']='NaN'\n",
    "        a['num_actor']=0\n",
    "        actor_list=a['Actors'].split(',')\n",
    "        if actor_list[0]=='N/A':\n",
    "            pass\n",
    "        elif len(actor_list)==1:\n",
    "            a['actor_1']=actor_list[0].strip(' ')\n",
    "            a['num_actor']=1\n",
    "        else:\n",
    "            a['actor_1']=actor_list[0].strip(' ')\n",
    "            a['actor_2']=actor_list[1].strip(' ')\n",
    "            a['num_actor']= len(actor_list)\n",
    "        \n",
    "        ## Directors next, same task as above ## \n",
    "        a['director_1']=a['director_2']='NaN'\n",
    "        a['num_director']=0\n",
    "        director_list=a['Director'].split(',')\n",
    "        if director_list[0]=='N/A':\n",
    "            pass\n",
    "        elif len(director_list)==1:\n",
    "            a['director_1']=director_list[0].strip(' ')\n",
    "            a['num_director']=1\n",
    "        else:\n",
    "            a['director_1']=director_list[0].strip(' ')\n",
    "            a['director_2']=director_list[1].strip(' ')\n",
    "            a['num_director']= len(director_list)\n",
    "        \n",
    "    return dat"
   ]
  },
  {
   "cell_type": "code",
   "execution_count": 14,
   "metadata": {
    "collapsed": true
   },
   "outputs": [],
   "source": [
    "OMdb_unpacked=pop_actors_and_directors(OMdb_rat_open)"
   ]
  },
  {
   "cell_type": "code",
   "execution_count": 15,
   "metadata": {
    "collapsed": true
   },
   "outputs": [],
   "source": [
    "with open ('./data/OMdb_unpacked.json','w') as outfile:\n",
    "    json.dump(OMdb_unpacked,outfile)"
   ]
  },
  {
   "cell_type": "code",
   "execution_count": 16,
   "metadata": {
    "collapsed": true
   },
   "outputs": [],
   "source": [
    "OMdb_unpacked_df=pd.read_json('./data/OMdb_unpacked.json',orient='records')"
   ]
  },
  {
   "cell_type": "code",
   "execution_count": 17,
   "metadata": {},
   "outputs": [],
   "source": [
    "OMdb_orig_features=['Actors', 'Awards', 'BoxOffice', 'Country', 'DVD', 'Director',\\\n",
    "       'Episode', 'Genre', 'IMdb_score', 'Language', 'Metacritic_score',\\\n",
    "       'Metascore', 'Plot', 'Poster', 'Production', 'RT_score', 'Rated',\\\n",
    "       'Released', 'Runtime', 'Title', 'Type', 'Website',\\\n",
    "        'Year', 'actor_1', 'actor_2', 'director_1', 'director_2',\\\n",
    "       'imdbID', 'imdbRating', 'imdbVotes', 'num_actor',\\\n",
    "       'num_director']\n",
    "OMdb_df=OMdb_unpacked_df[OMdb_orig_features]\n",
    "OMdb_features=['Actors', 'Awards', 'BoxOffice', 'Country', 'DVD', 'Director',\\\n",
    "       'Episode', 'Genre', 'IMdb_score', 'Language', 'Metacritic_score',\\\n",
    "       'Metascore', 'Plot', 'Poster', 'Production', 'RT_score', 'Rated',\\\n",
    "       'Released', 'Runtime', 'Title', 'Type', 'Website',\\\n",
    "        'Year', 'actor_1', 'actor_2', 'director_1', 'director_2',\\\n",
    "       'IMdb_ID', 'imdbRating', 'imdbVotes', 'num_actor', \\\n",
    "       'num_director']\n",
    "OMdb_df.columns=OMdb_features\n"
   ]
  },
  {
   "cell_type": "code",
   "execution_count": 45,
   "metadata": {
    "collapsed": true
   },
   "outputs": [],
   "source": [
    "## Create tables in an existing PostgreSQL db called \"movies\" ## \n",
    "\n",
    "connection=psycopg2.connect(host=\"localhost\",database=\"movies\", user=\"postgres\", password=\"postgres\")"
   ]
  },
  {
   "cell_type": "code",
   "execution_count": 160,
   "metadata": {
    "collapsed": true
   },
   "outputs": [],
   "source": [
    "\n",
    "engine = create_engine('postgresql://localhost:5432/movies')\n",
    "itunes_df.to_sql('itunes',engine,if_exists='replace',index=False)\n",
    "OMdb_search_dat_df.to_sql('omdb_search',engine,if_exists='replace',index=False)\n",
    "OMdb_df.to_sql('omdb',engine,if_exists='replace',index=False)"
   ]
  },
  {
   "cell_type": "code",
   "execution_count": 48,
   "metadata": {},
   "outputs": [
    {
     "data": {
      "text/html": [
       "<div>\n",
       "<style>\n",
       "    .dataframe thead tr:only-child th {\n",
       "        text-align: right;\n",
       "    }\n",
       "\n",
       "    .dataframe thead th {\n",
       "        text-align: left;\n",
       "    }\n",
       "\n",
       "    .dataframe tbody tr th {\n",
       "        vertical-align: top;\n",
       "    }\n",
       "</style>\n",
       "<table border=\"1\" class=\"dataframe\">\n",
       "  <thead>\n",
       "    <tr style=\"text-align: right;\">\n",
       "      <th></th>\n",
       "      <th>column_name</th>\n",
       "      <th>data_type</th>\n",
       "    </tr>\n",
       "  </thead>\n",
       "  <tbody>\n",
       "    <tr>\n",
       "      <th>0</th>\n",
       "      <td>Actors</td>\n",
       "      <td>text</td>\n",
       "    </tr>\n",
       "    <tr>\n",
       "      <th>1</th>\n",
       "      <td>Awards</td>\n",
       "      <td>text</td>\n",
       "    </tr>\n",
       "    <tr>\n",
       "      <th>2</th>\n",
       "      <td>BoxOffice</td>\n",
       "      <td>text</td>\n",
       "    </tr>\n",
       "    <tr>\n",
       "      <th>3</th>\n",
       "      <td>Country</td>\n",
       "      <td>text</td>\n",
       "    </tr>\n",
       "    <tr>\n",
       "      <th>4</th>\n",
       "      <td>DVD</td>\n",
       "      <td>text</td>\n",
       "    </tr>\n",
       "    <tr>\n",
       "      <th>5</th>\n",
       "      <td>Director</td>\n",
       "      <td>text</td>\n",
       "    </tr>\n",
       "    <tr>\n",
       "      <th>6</th>\n",
       "      <td>Episode</td>\n",
       "      <td>double precision</td>\n",
       "    </tr>\n",
       "    <tr>\n",
       "      <th>7</th>\n",
       "      <td>Genre</td>\n",
       "      <td>text</td>\n",
       "    </tr>\n",
       "    <tr>\n",
       "      <th>8</th>\n",
       "      <td>IMdb_score</td>\n",
       "      <td>double precision</td>\n",
       "    </tr>\n",
       "    <tr>\n",
       "      <th>9</th>\n",
       "      <td>Language</td>\n",
       "      <td>text</td>\n",
       "    </tr>\n",
       "    <tr>\n",
       "      <th>10</th>\n",
       "      <td>Metacritic_score</td>\n",
       "      <td>double precision</td>\n",
       "    </tr>\n",
       "    <tr>\n",
       "      <th>11</th>\n",
       "      <td>Metascore</td>\n",
       "      <td>text</td>\n",
       "    </tr>\n",
       "    <tr>\n",
       "      <th>12</th>\n",
       "      <td>Plot</td>\n",
       "      <td>text</td>\n",
       "    </tr>\n",
       "    <tr>\n",
       "      <th>13</th>\n",
       "      <td>Poster</td>\n",
       "      <td>text</td>\n",
       "    </tr>\n",
       "    <tr>\n",
       "      <th>14</th>\n",
       "      <td>Production</td>\n",
       "      <td>text</td>\n",
       "    </tr>\n",
       "    <tr>\n",
       "      <th>15</th>\n",
       "      <td>RT_score</td>\n",
       "      <td>double precision</td>\n",
       "    </tr>\n",
       "    <tr>\n",
       "      <th>16</th>\n",
       "      <td>Rated</td>\n",
       "      <td>text</td>\n",
       "    </tr>\n",
       "    <tr>\n",
       "      <th>17</th>\n",
       "      <td>Released</td>\n",
       "      <td>text</td>\n",
       "    </tr>\n",
       "    <tr>\n",
       "      <th>18</th>\n",
       "      <td>Runtime</td>\n",
       "      <td>text</td>\n",
       "    </tr>\n",
       "    <tr>\n",
       "      <th>19</th>\n",
       "      <td>Title</td>\n",
       "      <td>text</td>\n",
       "    </tr>\n",
       "    <tr>\n",
       "      <th>20</th>\n",
       "      <td>Type</td>\n",
       "      <td>text</td>\n",
       "    </tr>\n",
       "    <tr>\n",
       "      <th>21</th>\n",
       "      <td>Website</td>\n",
       "      <td>text</td>\n",
       "    </tr>\n",
       "    <tr>\n",
       "      <th>22</th>\n",
       "      <td>Year</td>\n",
       "      <td>bigint</td>\n",
       "    </tr>\n",
       "    <tr>\n",
       "      <th>23</th>\n",
       "      <td>actor_1</td>\n",
       "      <td>text</td>\n",
       "    </tr>\n",
       "    <tr>\n",
       "      <th>24</th>\n",
       "      <td>actor_2</td>\n",
       "      <td>text</td>\n",
       "    </tr>\n",
       "    <tr>\n",
       "      <th>25</th>\n",
       "      <td>director_1</td>\n",
       "      <td>text</td>\n",
       "    </tr>\n",
       "    <tr>\n",
       "      <th>26</th>\n",
       "      <td>director_2</td>\n",
       "      <td>text</td>\n",
       "    </tr>\n",
       "    <tr>\n",
       "      <th>27</th>\n",
       "      <td>IMdb_ID</td>\n",
       "      <td>text</td>\n",
       "    </tr>\n",
       "    <tr>\n",
       "      <th>28</th>\n",
       "      <td>imdbRating</td>\n",
       "      <td>text</td>\n",
       "    </tr>\n",
       "    <tr>\n",
       "      <th>29</th>\n",
       "      <td>imdbVotes</td>\n",
       "      <td>text</td>\n",
       "    </tr>\n",
       "    <tr>\n",
       "      <th>30</th>\n",
       "      <td>num_actor</td>\n",
       "      <td>bigint</td>\n",
       "    </tr>\n",
       "    <tr>\n",
       "      <th>31</th>\n",
       "      <td>num_actors</td>\n",
       "      <td>double precision</td>\n",
       "    </tr>\n",
       "    <tr>\n",
       "      <th>32</th>\n",
       "      <td>num_director</td>\n",
       "      <td>bigint</td>\n",
       "    </tr>\n",
       "  </tbody>\n",
       "</table>\n",
       "</div>"
      ],
      "text/plain": [
       "         column_name         data_type\n",
       "0             Actors              text\n",
       "1             Awards              text\n",
       "2          BoxOffice              text\n",
       "3            Country              text\n",
       "4                DVD              text\n",
       "5           Director              text\n",
       "6            Episode  double precision\n",
       "7              Genre              text\n",
       "8         IMdb_score  double precision\n",
       "9           Language              text\n",
       "10  Metacritic_score  double precision\n",
       "11         Metascore              text\n",
       "12              Plot              text\n",
       "13            Poster              text\n",
       "14        Production              text\n",
       "15          RT_score  double precision\n",
       "16             Rated              text\n",
       "17          Released              text\n",
       "18           Runtime              text\n",
       "19             Title              text\n",
       "20              Type              text\n",
       "21           Website              text\n",
       "22              Year            bigint\n",
       "23           actor_1              text\n",
       "24           actor_2              text\n",
       "25        director_1              text\n",
       "26        director_2              text\n",
       "27           IMdb_ID              text\n",
       "28        imdbRating              text\n",
       "29         imdbVotes              text\n",
       "30         num_actor            bigint\n",
       "31        num_actors  double precision\n",
       "32      num_director            bigint"
      ]
     },
     "execution_count": 48,
     "metadata": {},
     "output_type": "execute_result"
    }
   ],
   "source": [
    "query=\"\"\"\n",
    "    SELECT column_name,data_type\n",
    "    FROM INFORMATION_SCHEMA.COLUMNS\n",
    "    WHERE TABLE_NAME= 'omdb'\n",
    "\"\"\"\n",
    "\n",
    "pd.read_sql(query,connection)"
   ]
  },
  {
   "cell_type": "code",
   "execution_count": 79,
   "metadata": {},
   "outputs": [
    {
     "data": {
      "text/html": [
       "<div>\n",
       "<style>\n",
       "    .dataframe thead tr:only-child th {\n",
       "        text-align: right;\n",
       "    }\n",
       "\n",
       "    .dataframe thead th {\n",
       "        text-align: left;\n",
       "    }\n",
       "\n",
       "    .dataframe tbody tr th {\n",
       "        vertical-align: top;\n",
       "    }\n",
       "</style>\n",
       "<table border=\"1\" class=\"dataframe\">\n",
       "  <thead>\n",
       "    <tr style=\"text-align: right;\">\n",
       "      <th></th>\n",
       "      <th>Actors</th>\n",
       "    </tr>\n",
       "  </thead>\n",
       "  <tbody>\n",
       "    <tr>\n",
       "      <th>0</th>\n",
       "      <td>Janina Kuzma, Sandra Lahnsteiner, Julia Mancus...</td>\n",
       "    </tr>\n",
       "    <tr>\n",
       "      <th>1</th>\n",
       "      <td>N/A</td>\n",
       "    </tr>\n",
       "    <tr>\n",
       "      <th>2</th>\n",
       "      <td>N/A</td>\n",
       "    </tr>\n",
       "    <tr>\n",
       "      <th>3</th>\n",
       "      <td>Travis Rice, Mark Landvik, John Jackson, Nicol...</td>\n",
       "    </tr>\n",
       "    <tr>\n",
       "      <th>4</th>\n",
       "      <td>Iris Berard-Malenaucka, Iris Bernard-Malenauck...</td>\n",
       "    </tr>\n",
       "  </tbody>\n",
       "</table>\n",
       "</div>"
      ],
      "text/plain": [
       "                                              Actors\n",
       "0  Janina Kuzma, Sandra Lahnsteiner, Julia Mancus...\n",
       "1                                                N/A\n",
       "2                                                N/A\n",
       "3  Travis Rice, Mark Landvik, John Jackson, Nicol...\n",
       "4  Iris Berard-Malenaucka, Iris Bernard-Malenauck..."
      ]
     },
     "execution_count": 79,
     "metadata": {},
     "output_type": "execute_result"
    }
   ],
   "source": [
    "query=\"\"\"\n",
    "    SELECT \"\"\n",
    "    FROM omdb\n",
    "    LIMIT 5\n",
    "\"\"\"\n",
    "\n",
    "pd.read_sql(query,connection)"
   ]
  },
  {
   "cell_type": "code",
   "execution_count": 361,
   "metadata": {},
   "outputs": [
    {
     "data": {
      "text/html": [
       "<div>\n",
       "<style>\n",
       "    .dataframe thead tr:only-child th {\n",
       "        text-align: right;\n",
       "    }\n",
       "\n",
       "    .dataframe thead th {\n",
       "        text-align: left;\n",
       "    }\n",
       "\n",
       "    .dataframe tbody tr th {\n",
       "        vertical-align: top;\n",
       "    }\n",
       "</style>\n",
       "<table border=\"1\" class=\"dataframe\">\n",
       "  <thead>\n",
       "    <tr style=\"text-align: right;\">\n",
       "      <th></th>\n",
       "      <th>iTunes_ID</th>\n",
       "      <th>wrapperType</th>\n",
       "      <th>movie_title</th>\n",
       "      <th>artist_name</th>\n",
       "      <th>rental_price</th>\n",
       "      <th>main_price</th>\n",
       "      <th>hd_main_price</th>\n",
       "      <th>hd_rental_price</th>\n",
       "      <th>releaseDate</th>\n",
       "      <th>country</th>\n",
       "      <th>currency</th>\n",
       "      <th>synopsis</th>\n",
       "    </tr>\n",
       "  </thead>\n",
       "  <tbody>\n",
       "    <tr>\n",
       "      <th>0</th>\n",
       "      <td>1.434879e+09</td>\n",
       "      <td>track</td>\n",
       "      <td>The Predator</td>\n",
       "      <td>Shane Black</td>\n",
       "      <td>NaN</td>\n",
       "      <td>19.99</td>\n",
       "      <td>19.99</td>\n",
       "      <td>NaN</td>\n",
       "      <td>2018-09-14T07:00:00Z</td>\n",
       "      <td>USA</td>\n",
       "      <td>USD</td>\n",
       "      <td>From the outer reaches of space to the to the ...</td>\n",
       "    </tr>\n",
       "    <tr>\n",
       "      <th>1</th>\n",
       "      <td>1.406516e+09</td>\n",
       "      <td>track</td>\n",
       "      <td>Mission: Impossible - Fallout</td>\n",
       "      <td>Christopher McQuarrie</td>\n",
       "      <td>NaN</td>\n",
       "      <td>14.99</td>\n",
       "      <td>19.99</td>\n",
       "      <td>NaN</td>\n",
       "      <td>2018-07-27T07:00:00Z</td>\n",
       "      <td>USA</td>\n",
       "      <td>USD</td>\n",
       "      <td>On a dangerous assignment to recover stolen pl...</td>\n",
       "    </tr>\n",
       "    <tr>\n",
       "      <th>2</th>\n",
       "      <td>1.417714e+09</td>\n",
       "      <td>track</td>\n",
       "      <td>The Meg</td>\n",
       "      <td>Jon Turteltaub</td>\n",
       "      <td>5.99</td>\n",
       "      <td>12.99</td>\n",
       "      <td>12.99</td>\n",
       "      <td>5.99</td>\n",
       "      <td>2018-08-10T07:00:00Z</td>\n",
       "      <td>USA</td>\n",
       "      <td>USD</td>\n",
       "      <td>A deep-sea submersible filled with an internat...</td>\n",
       "    </tr>\n",
       "    <tr>\n",
       "      <th>3</th>\n",
       "      <td>1.404080e+09</td>\n",
       "      <td>track</td>\n",
       "      <td>Mile 22</td>\n",
       "      <td>Peter Berg</td>\n",
       "      <td>5.99</td>\n",
       "      <td>12.99</td>\n",
       "      <td>14.99</td>\n",
       "      <td>5.99</td>\n",
       "      <td>2018-08-17T07:00:00Z</td>\n",
       "      <td>USA</td>\n",
       "      <td>USD</td>\n",
       "      <td>In a visceral modern thriller from the directo...</td>\n",
       "    </tr>\n",
       "    <tr>\n",
       "      <th>4</th>\n",
       "      <td>1.392900e+09</td>\n",
       "      <td>track</td>\n",
       "      <td>Incredibles 2</td>\n",
       "      <td>Brad Bird</td>\n",
       "      <td>4.99</td>\n",
       "      <td>14.99</td>\n",
       "      <td>19.99</td>\n",
       "      <td>5.99</td>\n",
       "      <td>2018-06-15T07:00:00Z</td>\n",
       "      <td>USA</td>\n",
       "      <td>USD</td>\n",
       "      <td>In Incredibles 2, Helen is called on to lead a...</td>\n",
       "    </tr>\n",
       "  </tbody>\n",
       "</table>\n",
       "</div>"
      ],
      "text/plain": [
       "      iTunes_ID wrapperType                    movie_title  \\\n",
       "0  1.434879e+09       track                   The Predator   \n",
       "1  1.406516e+09       track  Mission: Impossible - Fallout   \n",
       "2  1.417714e+09       track                        The Meg   \n",
       "3  1.404080e+09       track                        Mile 22   \n",
       "4  1.392900e+09       track                  Incredibles 2   \n",
       "\n",
       "             artist_name  rental_price  main_price  hd_main_price  \\\n",
       "0            Shane Black           NaN       19.99          19.99   \n",
       "1  Christopher McQuarrie           NaN       14.99          19.99   \n",
       "2         Jon Turteltaub          5.99       12.99          12.99   \n",
       "3             Peter Berg          5.99       12.99          14.99   \n",
       "4              Brad Bird          4.99       14.99          19.99   \n",
       "\n",
       "   hd_rental_price           releaseDate country currency  \\\n",
       "0              NaN  2018-09-14T07:00:00Z     USA      USD   \n",
       "1              NaN  2018-07-27T07:00:00Z     USA      USD   \n",
       "2             5.99  2018-08-10T07:00:00Z     USA      USD   \n",
       "3             5.99  2018-08-17T07:00:00Z     USA      USD   \n",
       "4             5.99  2018-06-15T07:00:00Z     USA      USD   \n",
       "\n",
       "                                            synopsis  \n",
       "0  From the outer reaches of space to the to the ...  \n",
       "1  On a dangerous assignment to recover stolen pl...  \n",
       "2  A deep-sea submersible filled with an internat...  \n",
       "3  In a visceral modern thriller from the directo...  \n",
       "4  In Incredibles 2, Helen is called on to lead a...  "
      ]
     },
     "execution_count": 361,
     "metadata": {},
     "output_type": "execute_result"
    }
   ],
   "source": [
    "query=\"\"\"\n",
    "    SELECT *\n",
    "    FROM itunes\n",
    "    LIMIT 5\n",
    "\"\"\"\n",
    "\n",
    "pd.read_sql(query,connection)"
   ]
  },
  {
   "cell_type": "code",
   "execution_count": 82,
   "metadata": {
    "collapsed": true
   },
   "outputs": [],
   "source": [
    "query=\"\"\"\n",
    "    SELECT *\n",
    "    FROM omdb\n",
    "    LEFT JOIN omdb_search\n",
    "    ON omdb.\"IMdb_ID\"=omdb_search.\"IMdb_id\"\n",
    "\"\"\"\n",
    "\n",
    "omdb_big=pd.read_sql(query,connection)"
   ]
  },
  {
   "cell_type": "code",
   "execution_count": 84,
   "metadata": {
    "collapsed": true
   },
   "outputs": [],
   "source": [
    "omdb_big.to_sql('omdb_big',con=engine,if_exists='replace')"
   ]
  },
  {
   "cell_type": "code",
   "execution_count": 95,
   "metadata": {},
   "outputs": [
    {
     "data": {
      "text/html": [
       "<div>\n",
       "<style>\n",
       "    .dataframe thead tr:only-child th {\n",
       "        text-align: right;\n",
       "    }\n",
       "\n",
       "    .dataframe thead th {\n",
       "        text-align: left;\n",
       "    }\n",
       "\n",
       "    .dataframe tbody tr th {\n",
       "        vertical-align: top;\n",
       "    }\n",
       "</style>\n",
       "<table border=\"1\" class=\"dataframe\">\n",
       "  <thead>\n",
       "    <tr style=\"text-align: right;\">\n",
       "      <th></th>\n",
       "      <th>itunes_id</th>\n",
       "    </tr>\n",
       "  </thead>\n",
       "  <tbody>\n",
       "    <tr>\n",
       "      <th>0</th>\n",
       "      <td>1179287911</td>\n",
       "    </tr>\n",
       "    <tr>\n",
       "      <th>1</th>\n",
       "      <td>767303057</td>\n",
       "    </tr>\n",
       "    <tr>\n",
       "      <th>2</th>\n",
       "      <td>716284928</td>\n",
       "    </tr>\n",
       "    <tr>\n",
       "      <th>3</th>\n",
       "      <td>456513023</td>\n",
       "    </tr>\n",
       "    <tr>\n",
       "      <th>4</th>\n",
       "      <td>478793486</td>\n",
       "    </tr>\n",
       "  </tbody>\n",
       "</table>\n",
       "</div>"
      ],
      "text/plain": [
       "    itunes_id\n",
       "0  1179287911\n",
       "1   767303057\n",
       "2   716284928\n",
       "3   456513023\n",
       "4   478793486"
      ]
     },
     "execution_count": 95,
     "metadata": {},
     "output_type": "execute_result"
    }
   ],
   "source": [
    "query=\"\"\"\n",
    "    SELECT iTunes_ID\n",
    "    FROM omdb_big\n",
    "    LIMIT 5\n",
    "\"\"\"\n",
    "\n",
    "pd.read_sql(query,connection)"
   ]
  },
  {
   "cell_type": "code",
   "execution_count": 97,
   "metadata": {
    "collapsed": true
   },
   "outputs": [],
   "source": [
    "query=\"\"\"\n",
    "    SELECT *\n",
    "    FROM itunes\n",
    "    LEFT JOIN omdb_big\n",
    "    ON itunes.\"iTunes_ID\"=omdb_big.iTunes_ID\n",
    "    \n",
    "\"\"\"\n",
    "\n",
    "main=pd.read_sql(query,connection)"
   ]
  },
  {
   "cell_type": "code",
   "execution_count": 99,
   "metadata": {
    "collapsed": true
   },
   "outputs": [],
   "source": [
    "main.to_sql('main',con=engine,if_exists='replace',index=False)"
   ]
  },
  {
   "cell_type": "code",
   "execution_count": 134,
   "metadata": {
    "scrolled": true
   },
   "outputs": [
    {
     "ename": "DatabaseError",
     "evalue": "Execution failed on sql '\n    SELECT COUNT(\"IMdb_id\"), movie_title\n    FROM main\n    WHERE COUNT(\"IMdb_id\") >1\n    GROUP BY movie_title\n    ORDER BY COUNT(\"IMdb_id\") DESC\n    \n': aggregate functions are not allowed in WHERE\nLINE 4:     WHERE COUNT(\"IMdb_id\") >1\n                  ^\n",
     "output_type": "error",
     "traceback": [
      "\u001b[0;31m---------------------------------------------------------------------------\u001b[0m",
      "\u001b[0;31mProgrammingError\u001b[0m                          Traceback (most recent call last)",
      "\u001b[0;32m/anaconda/lib/python3.6/site-packages/pandas/io/sql.py\u001b[0m in \u001b[0;36mexecute\u001b[0;34m(self, *args, **kwargs)\u001b[0m\n\u001b[1;32m   1403\u001b[0m             \u001b[0;32melse\u001b[0m\u001b[0;34m:\u001b[0m\u001b[0;34m\u001b[0m\u001b[0m\n\u001b[0;32m-> 1404\u001b[0;31m                 \u001b[0mcur\u001b[0m\u001b[0;34m.\u001b[0m\u001b[0mexecute\u001b[0m\u001b[0;34m(\u001b[0m\u001b[0;34m*\u001b[0m\u001b[0margs\u001b[0m\u001b[0;34m)\u001b[0m\u001b[0;34m\u001b[0m\u001b[0m\n\u001b[0m\u001b[1;32m   1405\u001b[0m             \u001b[0;32mreturn\u001b[0m \u001b[0mcur\u001b[0m\u001b[0;34m\u001b[0m\u001b[0m\n",
      "\u001b[0;31mProgrammingError\u001b[0m: aggregate functions are not allowed in WHERE\nLINE 4:     WHERE COUNT(\"IMdb_id\") >1\n                  ^\n",
      "\nDuring handling of the above exception, another exception occurred:\n",
      "\u001b[0;31mDatabaseError\u001b[0m                             Traceback (most recent call last)",
      "\u001b[0;32m<ipython-input-134-0a9a1d8a4adc>\u001b[0m in \u001b[0;36m<module>\u001b[0;34m()\u001b[0m\n\u001b[1;32m      8\u001b[0m \"\"\"\n\u001b[1;32m      9\u001b[0m \u001b[0;34m\u001b[0m\u001b[0m\n\u001b[0;32m---> 10\u001b[0;31m \u001b[0mpd\u001b[0m\u001b[0;34m.\u001b[0m\u001b[0mread_sql\u001b[0m\u001b[0;34m(\u001b[0m\u001b[0mquery\u001b[0m\u001b[0;34m,\u001b[0m\u001b[0mconnection\u001b[0m\u001b[0;34m)\u001b[0m\u001b[0;34m\u001b[0m\u001b[0m\n\u001b[0m",
      "\u001b[0;32m/anaconda/lib/python3.6/site-packages/pandas/io/sql.py\u001b[0m in \u001b[0;36mread_sql\u001b[0;34m(sql, con, index_col, coerce_float, params, parse_dates, columns, chunksize)\u001b[0m\n\u001b[1;32m    398\u001b[0m             \u001b[0msql\u001b[0m\u001b[0;34m,\u001b[0m \u001b[0mindex_col\u001b[0m\u001b[0;34m=\u001b[0m\u001b[0mindex_col\u001b[0m\u001b[0;34m,\u001b[0m \u001b[0mparams\u001b[0m\u001b[0;34m=\u001b[0m\u001b[0mparams\u001b[0m\u001b[0;34m,\u001b[0m\u001b[0;34m\u001b[0m\u001b[0m\n\u001b[1;32m    399\u001b[0m             \u001b[0mcoerce_float\u001b[0m\u001b[0;34m=\u001b[0m\u001b[0mcoerce_float\u001b[0m\u001b[0;34m,\u001b[0m \u001b[0mparse_dates\u001b[0m\u001b[0;34m=\u001b[0m\u001b[0mparse_dates\u001b[0m\u001b[0;34m,\u001b[0m\u001b[0;34m\u001b[0m\u001b[0m\n\u001b[0;32m--> 400\u001b[0;31m             chunksize=chunksize)\n\u001b[0m\u001b[1;32m    401\u001b[0m \u001b[0;34m\u001b[0m\u001b[0m\n\u001b[1;32m    402\u001b[0m     \u001b[0;32mtry\u001b[0m\u001b[0;34m:\u001b[0m\u001b[0;34m\u001b[0m\u001b[0m\n",
      "\u001b[0;32m/anaconda/lib/python3.6/site-packages/pandas/io/sql.py\u001b[0m in \u001b[0;36mread_query\u001b[0;34m(self, sql, index_col, coerce_float, params, parse_dates, chunksize)\u001b[0m\n\u001b[1;32m   1437\u001b[0m \u001b[0;34m\u001b[0m\u001b[0m\n\u001b[1;32m   1438\u001b[0m         \u001b[0margs\u001b[0m \u001b[0;34m=\u001b[0m \u001b[0m_convert_params\u001b[0m\u001b[0;34m(\u001b[0m\u001b[0msql\u001b[0m\u001b[0;34m,\u001b[0m \u001b[0mparams\u001b[0m\u001b[0;34m)\u001b[0m\u001b[0;34m\u001b[0m\u001b[0m\n\u001b[0;32m-> 1439\u001b[0;31m         \u001b[0mcursor\u001b[0m \u001b[0;34m=\u001b[0m \u001b[0mself\u001b[0m\u001b[0;34m.\u001b[0m\u001b[0mexecute\u001b[0m\u001b[0;34m(\u001b[0m\u001b[0;34m*\u001b[0m\u001b[0margs\u001b[0m\u001b[0;34m)\u001b[0m\u001b[0;34m\u001b[0m\u001b[0m\n\u001b[0m\u001b[1;32m   1440\u001b[0m         \u001b[0mcolumns\u001b[0m \u001b[0;34m=\u001b[0m \u001b[0;34m[\u001b[0m\u001b[0mcol_desc\u001b[0m\u001b[0;34m[\u001b[0m\u001b[0;36m0\u001b[0m\u001b[0;34m]\u001b[0m \u001b[0;32mfor\u001b[0m \u001b[0mcol_desc\u001b[0m \u001b[0;32min\u001b[0m \u001b[0mcursor\u001b[0m\u001b[0;34m.\u001b[0m\u001b[0mdescription\u001b[0m\u001b[0;34m]\u001b[0m\u001b[0;34m\u001b[0m\u001b[0m\n\u001b[1;32m   1441\u001b[0m \u001b[0;34m\u001b[0m\u001b[0m\n",
      "\u001b[0;32m/anaconda/lib/python3.6/site-packages/pandas/io/sql.py\u001b[0m in \u001b[0;36mexecute\u001b[0;34m(self, *args, **kwargs)\u001b[0m\n\u001b[1;32m   1414\u001b[0m             ex = DatabaseError(\n\u001b[1;32m   1415\u001b[0m                 \"Execution failed on sql '%s': %s\" % (args[0], exc))\n\u001b[0;32m-> 1416\u001b[0;31m             \u001b[0mraise_with_traceback\u001b[0m\u001b[0;34m(\u001b[0m\u001b[0mex\u001b[0m\u001b[0;34m)\u001b[0m\u001b[0;34m\u001b[0m\u001b[0m\n\u001b[0m\u001b[1;32m   1417\u001b[0m \u001b[0;34m\u001b[0m\u001b[0m\n\u001b[1;32m   1418\u001b[0m     \u001b[0;34m@\u001b[0m\u001b[0mstaticmethod\u001b[0m\u001b[0;34m\u001b[0m\u001b[0m\n",
      "\u001b[0;32m/anaconda/lib/python3.6/site-packages/pandas/compat/__init__.py\u001b[0m in \u001b[0;36mraise_with_traceback\u001b[0;34m(exc, traceback)\u001b[0m\n\u001b[1;32m    342\u001b[0m         \u001b[0;32mif\u001b[0m \u001b[0mtraceback\u001b[0m \u001b[0;34m==\u001b[0m \u001b[0mEllipsis\u001b[0m\u001b[0;34m:\u001b[0m\u001b[0;34m\u001b[0m\u001b[0m\n\u001b[1;32m    343\u001b[0m             \u001b[0m_\u001b[0m\u001b[0;34m,\u001b[0m \u001b[0m_\u001b[0m\u001b[0;34m,\u001b[0m \u001b[0mtraceback\u001b[0m \u001b[0;34m=\u001b[0m \u001b[0msys\u001b[0m\u001b[0;34m.\u001b[0m\u001b[0mexc_info\u001b[0m\u001b[0;34m(\u001b[0m\u001b[0;34m)\u001b[0m\u001b[0;34m\u001b[0m\u001b[0m\n\u001b[0;32m--> 344\u001b[0;31m         \u001b[0;32mraise\u001b[0m \u001b[0mexc\u001b[0m\u001b[0;34m.\u001b[0m\u001b[0mwith_traceback\u001b[0m\u001b[0;34m(\u001b[0m\u001b[0mtraceback\u001b[0m\u001b[0;34m)\u001b[0m\u001b[0;34m\u001b[0m\u001b[0m\n\u001b[0m\u001b[1;32m    345\u001b[0m \u001b[0;32melse\u001b[0m\u001b[0;34m:\u001b[0m\u001b[0;34m\u001b[0m\u001b[0m\n\u001b[1;32m    346\u001b[0m     \u001b[0;31m# this version of raise is a syntax error in Python 3\u001b[0m\u001b[0;34m\u001b[0m\u001b[0;34m\u001b[0m\u001b[0m\n",
      "\u001b[0;32m/anaconda/lib/python3.6/site-packages/pandas/io/sql.py\u001b[0m in \u001b[0;36mexecute\u001b[0;34m(self, *args, **kwargs)\u001b[0m\n\u001b[1;32m   1402\u001b[0m                 \u001b[0mcur\u001b[0m\u001b[0;34m.\u001b[0m\u001b[0mexecute\u001b[0m\u001b[0;34m(\u001b[0m\u001b[0;34m*\u001b[0m\u001b[0margs\u001b[0m\u001b[0;34m,\u001b[0m \u001b[0;34m**\u001b[0m\u001b[0mkwargs\u001b[0m\u001b[0;34m)\u001b[0m\u001b[0;34m\u001b[0m\u001b[0m\n\u001b[1;32m   1403\u001b[0m             \u001b[0;32melse\u001b[0m\u001b[0;34m:\u001b[0m\u001b[0;34m\u001b[0m\u001b[0m\n\u001b[0;32m-> 1404\u001b[0;31m                 \u001b[0mcur\u001b[0m\u001b[0;34m.\u001b[0m\u001b[0mexecute\u001b[0m\u001b[0;34m(\u001b[0m\u001b[0;34m*\u001b[0m\u001b[0margs\u001b[0m\u001b[0;34m)\u001b[0m\u001b[0;34m\u001b[0m\u001b[0m\n\u001b[0m\u001b[1;32m   1405\u001b[0m             \u001b[0;32mreturn\u001b[0m \u001b[0mcur\u001b[0m\u001b[0;34m\u001b[0m\u001b[0m\n\u001b[1;32m   1406\u001b[0m         \u001b[0;32mexcept\u001b[0m \u001b[0mException\u001b[0m \u001b[0;32mas\u001b[0m \u001b[0mexc\u001b[0m\u001b[0;34m:\u001b[0m\u001b[0;34m\u001b[0m\u001b[0m\n",
      "\u001b[0;31mDatabaseError\u001b[0m: Execution failed on sql '\n    SELECT COUNT(\"IMdb_id\"), movie_title\n    FROM main\n    WHERE COUNT(\"IMdb_id\") >1\n    GROUP BY movie_title\n    ORDER BY COUNT(\"IMdb_id\") DESC\n    \n': aggregate functions are not allowed in WHERE\nLINE 4:     WHERE COUNT(\"IMdb_id\") >1\n                  ^\n"
     ]
    }
   ],
   "source": [
    "query=\"\"\"\n",
    "    SELECT COUNT(\"IMdb_id\"), movie_title\n",
    "    FROM main\n",
    "    GROUP BY movie_title\n",
    "    ORDER BY COUNT(\"IMdb_id\") DESC\n",
    "    \n",
    "\"\"\"\n",
    "\n",
    "pd.read_sql(query,connection)"
   ]
  },
  {
   "cell_type": "code",
   "execution_count": null,
   "metadata": {
    "collapsed": true
   },
   "outputs": [],
   "source": [
    " "
   ]
  }
 ],
 "metadata": {
  "kernelspec": {
   "display_name": "Python 3",
   "language": "python",
   "name": "python3"
  },
  "language_info": {
   "codemirror_mode": {
    "name": "ipython",
    "version": 3
   },
   "file_extension": ".py",
   "mimetype": "text/x-python",
   "name": "python",
   "nbconvert_exporter": "python",
   "pygments_lexer": "ipython3",
   "version": "3.6.2"
  }
 },
 "nbformat": 4,
 "nbformat_minor": 2
}
