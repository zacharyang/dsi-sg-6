{
 "cells": [
  {
   "cell_type": "markdown",
   "metadata": {},
   "source": [
    "<img src=\"http://imgur.com/1ZcRyrc.png\" style=\"float: left; margin: 15px; height: 80px\">\n",
    "\n",
    "# Project 1\n",
    "\n",
    "### Building \"Pokemon Stay\"\n",
    "\n",
    "---\n",
    "You are an analyst at a \"scrappy\" online gaming company that specializes in remakes of last year's fads.\n",
    "\n",
    "Your boss, who runs the product development team, is convinced that Pokemon Go's fatal flaw was that you had to actually move around outside. She has design mock-ups for a new game called Pokemon Stay: in this version players still need to move, but just from website to website. Pokemon gyms are now popular online destinations, and catching Pokemon in the \"wild\" simply requires browsing the internet for hours in the comfort of your home.\n",
    "\n",
    "She wants you to program a prototype version of the game, and analyze the planned content to help the team calibrate the design."
   ]
  },
  {
   "cell_type": "markdown",
   "metadata": {},
   "source": [
    "#### Package imports\n",
    "\n",
    "The pprint package below is the only package imported here, and it's not even strictly required to do any of the project. Printing python variables and objects with pprint can help to format them in a \"prettier\" way."
   ]
  },
  {
   "cell_type": "code",
   "execution_count": 1,
   "metadata": {
    "collapsed": true
   },
   "outputs": [],
   "source": [
    "import pprint as pprint"
   ]
  },
  {
   "cell_type": "markdown",
   "metadata": {},
   "source": [
    "<img src=\"http://imgur.com/l5NasQj.png\" style=\"float: left; margin: 25px 15px 0px 0px; height: 25px\">\n",
    "\n",
    "## 1. Defining a player\n",
    "\n",
    "---\n",
    "\n",
    "The player variables are:\n",
    "\n",
    "    player_id : id code unique to each player (integer)\n",
    "    player_name : entered name of the player (string)\n",
    "    time_played : number of time played the game in minutes (float)\n",
    "    player_pokemon: the player's captured pokemon (dictionary)\n",
    "    gyms_visited: ids of the gyms that a player has visited (list)\n",
    "    \n",
    "Create the components for a player object by defining each of these variables. The dictionary and list variables should just be defined as empty; you can use any (correctly typed) values for the others."
   ]
  },
  {
   "cell_type": "code",
   "execution_count": 2,
   "metadata": {
    "collapsed": true
   },
   "outputs": [],
   "source": [
    "player_1={\n",
    "    \n",
    "    \"player_id\": 1,\n",
    "    \"player_name\": \"Z\",\n",
    "    \"time_played\": float(90),\n",
    "    \"player_pokemon\": {},\n",
    "    \"gyms_visited\": []\n",
    "}\n"
   ]
  },
  {
   "cell_type": "markdown",
   "metadata": {},
   "source": [
    "<img src=\"http://imgur.com/l5NasQj.png\" style=\"float: left; margin: 25px 15px 0px 0px; height: 25px\">\n",
    "\n",
    "## 2. Defining \"gym\" locations\n",
    "\n",
    "---\n",
    "\n",
    "As the sole programmer, Pokemon Stay will have to start small. To begin, there will be 10 different gym location websites on the internet. The gym locations are:\n",
    "\n",
    "    1. 'reddit.com'\n",
    "    2. 'amazon.com'\n",
    "    3. 'twitter.com'\n",
    "    4. 'linkedin.com'\n",
    "    5. 'ebay.com'\n",
    "    6. 'netflix.com'\n",
    "    7. 'sporcle.com'\n",
    "    8. 'stackoverflow.com'\n",
    "    9. 'github.com'\n",
    "    10. 'quora.com'\n",
    "\n",
    "1. Set up a list of all the gym locations. This will be a list of strings.\n",
    "2. Append two of these locations to your player's list of visited gyms.\n",
    "3. Print the list."
   ]
  },
  {
   "cell_type": "code",
   "execution_count": 3,
   "metadata": {},
   "outputs": [
    {
     "name": "stdout",
     "output_type": "stream",
     "text": [
      "['reddit.com', 'amazon.com']\n"
     ]
    }
   ],
   "source": [
    "gym_locations=['reddit.com','amazon.com','twitter.com','linkedin.com','ebay.com','netflix.com','sporcle.com','stackoverflow.com','github.com','quora.com']\n",
    "for i in range(0,2):\n",
    "    player_1['gyms_visited'].append(gym_locations[i]) \n",
    "\n",
    "print(player_1['gyms_visited'])"
   ]
  },
  {
   "cell_type": "markdown",
   "metadata": {},
   "source": [
    "<img src=\"http://imgur.com/l5NasQj.png\" style=\"float: left; margin: 25px 15px 0px 0px; height: 25px\">\n",
    "\n",
    "## 3. Create a pokedex\n",
    "\n",
    "---\n",
    "\n",
    "We also need to create some pokemon to catch. Each pokemon will be defined by these variables:\n",
    "\n",
    "    pokemon_id : unique identifier for each pokemon (integer)\n",
    "    name : the name of the pokemon (string)\n",
    "    type : the category of pokemon (string)\n",
    "    hp : base hitpoints (integer)\n",
    "    attack : base attack (integer)\n",
    "    defense : base defense (integer)\n",
    "    special_attack : base special attack (integer)\n",
    "    special_defense : base sepecial defense (integer)\n",
    "    speed : base speed (integer)\n",
    "\n",
    "We are only going to create 3 different pokemon with these `pokemon_id` and `pokemon_name` values:\n",
    "\n",
    "    1 : 'charmander'\n",
    "    2 : 'squirtle'\n",
    "    3 : 'bulbasaur'\n",
    "\n",
    "Create a dictionary that will contain the pokemon. The keys of the dictionary will be the `pokemon_id` and the values will themselves dictionaries that contain the other pokemon variables. The structure of the pokedex dictionary will start like so:\n",
    "     \n",
    "     {\n",
    "         1: {\n",
    "                 'name':'charmander',\n",
    "                 'type':'fire',\n",
    "                 ...\n",
    "                 \n",
    "The `type` of charmander, squirtle, and bulbasaur should be `'fire'`, `'water'`, and `'poison'` respectively. The other values are up to you, make them anything you like!\n",
    "\n",
    "Print (or pretty print) the pokedex dictionary with the 3 pokemon."
   ]
  },
  {
   "cell_type": "code",
   "execution_count": 4,
   "metadata": {},
   "outputs": [
    {
     "name": "stdout",
     "output_type": "stream",
     "text": [
      "{   1: {   'attack': 5,\n",
      "           'defense': 2,\n",
      "           'hp': 100,\n",
      "           'name': 'charmander',\n",
      "           'special_attack': 10,\n",
      "           'special_defense': 8,\n",
      "           'speed': 7,\n",
      "           'type': 'fire'},\n",
      "    2: {   'attack': 8,\n",
      "           'defense': 3,\n",
      "           'hp': 80,\n",
      "           'name': 'squirtle',\n",
      "           'special_attack': 15,\n",
      "           'special_defense': 9,\n",
      "           'speed': 9,\n",
      "           'type': 'water'},\n",
      "    3: {   'attack': 3,\n",
      "           'defense': 6,\n",
      "           'hp': 120,\n",
      "           'name': 'bulbasaur',\n",
      "           'special_attack': 12,\n",
      "           'special_defense': 15,\n",
      "           'speed': 5,\n",
      "           'type': 'poison'}}\n"
     ]
    }
   ],
   "source": [
    "pokedex={\n",
    "    1:{\n",
    "        'name':'charmander',\n",
    "        'type':'fire',\n",
    "        'hp': int(100),\n",
    "        'attack': int(5),\n",
    "        'defense': int(2),\n",
    "        'special_attack': int(10),\n",
    "        'special_defense': int(8),\n",
    "        'speed': int(7)\n",
    "    },\n",
    "    \n",
    "    2:{\n",
    "        'name':'squirtle',\n",
    "        'type':'water',\n",
    "        'hp': int(80),\n",
    "        'attack': int(8),\n",
    "        'defense': int(3),\n",
    "        'special_attack': int(15),\n",
    "        'special_defense': int(9),\n",
    "        'speed': int(9)\n",
    "    },\n",
    "    \n",
    "     3:{\n",
    "        'name':'bulbasaur',\n",
    "        'type':'poison',\n",
    "        'hp': int(120),\n",
    "        'attack': int(3),\n",
    "        'defense': int(6),\n",
    "        'special_attack': int(12),\n",
    "        'special_defense': int(15),\n",
    "        'speed': int(5)\n",
    "    }\n",
    "}\n",
    "\n",
    "pp=pprint.PrettyPrinter(indent=4)\n",
    "pp.pprint(pokedex)"
   ]
  },
  {
   "cell_type": "markdown",
   "metadata": {},
   "source": [
    "<img src=\"http://imgur.com/l5NasQj.png\" style=\"float: left; margin: 25px 15px 0px 0px; height: 25px\">\n",
    "\n",
    "## 4. Create a data structure for players\n",
    "\n",
    "---\n",
    "\n",
    "### 4.1 \n",
    "\n",
    "In order to maintain a database of multiple players, create a dictionary that keeps track of players indexed by `player_id`. \n",
    "\n",
    "The keys of the dictionary will be `player_id` and values will be dictionaries containing each player's variables (from question 1). \n",
    "\n",
    "Construct the `players` dictionary and insert the player that you defined in question 1, then print `players`."
   ]
  },
  {
   "cell_type": "code",
   "execution_count": 5,
   "metadata": {
    "collapsed": true
   },
   "outputs": [],
   "source": [
    "players={\n",
    "    \n",
    "    1: player_1\n",
    "    \n",
    "}"
   ]
  },
  {
   "cell_type": "code",
   "execution_count": 6,
   "metadata": {},
   "outputs": [
    {
     "name": "stdout",
     "output_type": "stream",
     "text": [
      "{   1: {   'gyms_visited': ['reddit.com', 'amazon.com'],\n",
      "           'player_id': 1,\n",
      "           'player_name': 'Z',\n",
      "           'player_pokemon': {},\n",
      "           'time_played': 90.0}}\n"
     ]
    }
   ],
   "source": [
    "pp.pprint(players)"
   ]
  },
  {
   "cell_type": "markdown",
   "metadata": {},
   "source": [
    "---\n",
    "\n",
    "### 4.2\n",
    "\n",
    "Create a new player with `player_id = 2` in the `players` dictionary. Leave the `'player_pokemon'` dictionary empty. Append `'alcatraz'` and `'pacific_beach'` to the `'gyms_visited'` list for player 2.\n",
    "\n",
    "The `'player_name'` and `'time_played'` values are up to you, but must be a string and float, respectively.\n",
    "\n",
    "Remember, the player_id is the key for the player in the players dictionary.\n",
    "\n",
    "Print the `players` dictionary with the new player inserted."
   ]
  },
  {
   "cell_type": "code",
   "execution_count": 7,
   "metadata": {
    "collapsed": true
   },
   "outputs": [],
   "source": [
    "players[2]={\n",
    "    \n",
    "    \"player_id\": 2,\n",
    "    \"player_name\": \"BigZ\",\n",
    "    \"time_played\": float(12803),\n",
    "    \"player_pokemon\": {},\n",
    "    \"gyms_visited\": []\n",
    "}\n",
    "players[2]['gyms_visited'].append('alcatraz')\n",
    "players[2]['gyms_visited'].append('pacific_beach')"
   ]
  },
  {
   "cell_type": "code",
   "execution_count": 8,
   "metadata": {},
   "outputs": [
    {
     "name": "stdout",
     "output_type": "stream",
     "text": [
      "{   1: {   'gyms_visited': ['reddit.com', 'amazon.com'],\n",
      "           'player_id': 1,\n",
      "           'player_name': 'Z',\n",
      "           'player_pokemon': {},\n",
      "           'time_played': 90.0},\n",
      "    2: {   'gyms_visited': ['alcatraz', 'pacific_beach'],\n",
      "           'player_id': 2,\n",
      "           'player_name': 'BigZ',\n",
      "           'player_pokemon': {},\n",
      "           'time_played': 12803.0}}\n"
     ]
    }
   ],
   "source": [
    "pp.pprint(players)"
   ]
  },
  {
   "cell_type": "markdown",
   "metadata": {},
   "source": [
    "<img src=\"http://imgur.com/l5NasQj.png\" style=\"float: left; margin: 25px 15px 0px 0px; height: 25px\">\n",
    "\n",
    "## 5. Add captured pokemon for each player\n",
    "\n",
    "---\n",
    "\n",
    "The `'player_pokemon'` keyed dictionaries for each player keep track of which of the pokemon each player has.\n",
    "\n",
    "The keys of the `'player_pokemon'` dictionaries are the pokemon ids that correspond to the ids in the `pokedex` dictionary you created earlier. The values are integers specifying the stats for the pokemon.\n",
    "\n",
    "Give player 1 a squirtle. Give player 2 charmander and a bulbasaur.\n",
    "\n",
    "Print the players dictionary after adding the pokemon for each player.\n"
   ]
  },
  {
   "cell_type": "code",
   "execution_count": 9,
   "metadata": {},
   "outputs": [
    {
     "name": "stdout",
     "output_type": "stream",
     "text": [
      "{   1: {   'gyms_visited': ['reddit.com', 'amazon.com'],\n",
      "           'player_id': 1,\n",
      "           'player_name': 'Z',\n",
      "           'player_pokemon': {   1: {   'attack': 8,\n",
      "                                        'defense': 3,\n",
      "                                        'hp': 80,\n",
      "                                        'name': 'squirtle',\n",
      "                                        'special_attack': 15,\n",
      "                                        'special_defense': 9,\n",
      "                                        'speed': 9,\n",
      "                                        'type': 'water'}},\n",
      "           'time_played': 90.0},\n",
      "    2: {   'gyms_visited': ['alcatraz', 'pacific_beach'],\n",
      "           'player_id': 2,\n",
      "           'player_name': 'BigZ',\n",
      "           'player_pokemon': {   1: {   'attack': 5,\n",
      "                                        'defense': 2,\n",
      "                                        'hp': 100,\n",
      "                                        'name': 'charmander',\n",
      "                                        'special_attack': 10,\n",
      "                                        'special_defense': 8,\n",
      "                                        'speed': 7,\n",
      "                                        'type': 'fire'},\n",
      "                                 2: {   'attack': 3,\n",
      "                                        'defense': 6,\n",
      "                                        'hp': 120,\n",
      "                                        'name': 'bulbasaur',\n",
      "                                        'special_attack': 12,\n",
      "                                        'special_defense': 15,\n",
      "                                        'speed': 5,\n",
      "                                        'type': 'poison'}},\n",
      "           'time_played': 12803.0}}\n"
     ]
    }
   ],
   "source": [
    "players[1]['player_pokemon'][1]=pokedex[2]\n",
    "players[2]['player_pokemon'][1]=pokedex[1]\n",
    "players[2]['player_pokemon'][2]=pokedex[3]\n",
    "pp.pprint(players)"
   ]
  },
  {
   "cell_type": "markdown",
   "metadata": {},
   "source": [
    "\n",
    "\n",
    "## 6. What gyms have players visited?\n",
    "\n",
    "---\n",
    "<img src=\"http://imgur.com/l5NasQj.png\" style=\"float: left; margin: 25px 15px 0px 0px; height: 25px\">\n",
    "### 6.1\n",
    "\n",
    "Write a for-loop that:\n",
    "\n",
    "1. Iterates through the `pokemon_gyms` list of gym locations you defined before.\n",
    "2. For each gym, iterate through each player in the `players` dictionary with a second, internal for-loop.\n",
    "3. If the player has visited the gym, print out \"[player] has visited [gym location].\", filling in [player] and [gym location] with the current player's name and current gym location."
   ]
  },
  {
   "cell_type": "code",
   "execution_count": 10,
   "metadata": {},
   "outputs": [
    {
     "name": "stdout",
     "output_type": "stream",
     "text": [
      "Player 1 has visited reddit.com\n",
      "Player 1 has visited amazon.com\n"
     ]
    },
    {
     "data": {
      "text/plain": [
       "20"
      ]
     },
     "execution_count": 10,
     "metadata": {},
     "output_type": "execute_result"
    }
   ],
   "source": [
    "loop_counter=0\n",
    "for gym in gym_locations: # Outer-loop: iterate through gym locations #\n",
    "    for player in players: # Inner-loop : iterate through player dictionary # \n",
    "        loop_counter+=1\n",
    "        if gym in players[player]['gyms_visited']:\n",
    "            print('Player '+str(player)+' has visited '+gym)\n",
    "loop_counter"
   ]
  },
  {
   "cell_type": "markdown",
   "metadata": {},
   "source": [
    "<img src=\"http://imgur.com/xDpSobf.png\" style=\"float: left; margin: 25px 15px 0px 0px; height: 25px\">\n",
    "### 6.2\n",
    "\n",
    "How many times did that loop run? If you have N gyms and also N players, how many times would it run as a function of N?\n",
    "\n",
    "Can you think of a more efficient way to accomplish the same thing? \n",
    "\n",
    "(You can write your answer as Markdown text.)"
   ]
  },
  {
   "cell_type": "markdown",
   "metadata": {
    "collapsed": true
   },
   "source": [
    "<b> The loop ran 20 times. It would run $N^2$ times.\n",
    "\n",
    "A more efficient way would be to match the gym locations by list index using the str.index() method and iterating through the player dictionary.</b>"
   ]
  },
  {
   "cell_type": "markdown",
   "metadata": {},
   "source": [
    "<img src=\"http://imgur.com/l5NasQj.png\" style=\"float: left; margin: 25px 15px 0px 0px; height: 25px\">\n",
    "\n",
    "## 7. Calculate player \"power\".\n",
    "\n",
    "---\n",
    "\n",
    "Define a function that will calculate a player's \"power\". Player power is defined as the sum of the base statistics all of their pokemon.\n",
    "\n",
    "Your function will:\n",
    "\n",
    "1. Accept the `players` dictionary, `pokedex` dictionary, and a player_id as arguments.\n",
    "2. For the specified player_id, look up that player's pokemon and their level(s).\n",
    "3. Find and aggregate the attack and defense values for each of the player's pokemon from the `pokedex` dictionary.\n",
    "4. Print \"[player name]'s power is [player power].\", where the player power is the sum of the base statistics for all of their pokemon.\n",
    "5. Return the player's power value.\n",
    "\n",
    "Print out the pokemon power for each of your players."
   ]
  },
  {
   "cell_type": "code",
   "execution_count": 11,
   "metadata": {},
   "outputs": [
    {
     "name": "stdout",
     "output_type": "stream",
     "text": [
      "Player 1's power is 11\n",
      "Player 2's power is 16\n"
     ]
    },
    {
     "data": {
      "text/plain": [
       "16"
      ]
     },
     "execution_count": 11,
     "metadata": {},
     "output_type": "execute_result"
    }
   ],
   "source": [
    "def player_power(players,pokedex,player_id):\n",
    "    attack=0\n",
    "    defense=0\n",
    "    # Loop through each player's pokemon list found in the pokemon dictionary #\n",
    "    for pokemon in players[player_id]['player_pokemon']:\n",
    "        attack += players[player_id]['player_pokemon'][pokemon]['attack'] \n",
    "        defense += players[player_id]['player_pokemon'][pokemon]['defense']\n",
    "    power = attack + defense\n",
    "    # Power = base statistics, where base statistics is sum of attack and defense # \n",
    "    print ('Player '+ str(player_id) +'\\'s power is ' + str(power))\n",
    "    return attack + defense\n",
    "\n",
    "player_power(players,pokedex,1)\n",
    "player_power(players,pokedex,2)"
   ]
  },
  {
   "cell_type": "markdown",
   "metadata": {
    "collapsed": true
   },
   "source": [
    "<img src=\"http://imgur.com/l5NasQj.png\" style=\"float: left; margin: 25px 15px 0px 0px; height: 25px\">\n",
    "\n",
    "## 8. Load a pokedex file containing all the pokemon\n",
    "\n",
    "---\n",
    "\n",
    "### 8.1\n",
    "\n",
    "While you were putting together the prototype code, your colleagues were preparing a dataset of Pokemon and their attributes. (This was a rush job, so they may have picked some crazy values for some...)\n",
    "\n",
    "The code below loads information from a comma separated value (csv) file. You need to parse this string into a more useable format. The format of the string is:\n",
    "\n",
    "- Rows are separated by newline characters: \\n\n",
    "- Columns are separated by commas: ,\n",
    "- All cells in the csv are double quoted. Ex: \"PokedexNumber\" is the first cell of the first row.\n",
    "\n",
    "\n",
    "Using for-loops, create a list of lists where each list within the overall list is a row of the csv/matrix, and each element in that list is a cell in that row. Additional criteria:\n",
    "\n",
    "1. Quotes are removed from each cell item.\n",
    "2. Numeric column values are converted to floats.\n",
    "3. There are some cells that are empty and have no information. For these cells put a -1 value in place.\n",
    "\n",
    "Your end result is effectively a matrix. Each list in the outer list is a row, and the *j*th elements of list together form the *j*th column, which represents a data attribute. The first three lists in your pokedex list should look like this:\n",
    "\n",
    "    ['PokedexNumber', 'Name', 'Type', 'Total', 'HP', 'Attack', 'Defense', 'SpecialAttack', 'SpecialDefense', 'Speed']\n",
    "    [1.0, 'Bulbasaur', 'GrassPoison', 318.0, 45.0, 49.0, 49.0, 65.0, 65.0, 45.0]\n",
    "    [2.0, 'Ivysaur', 'GrassPoison', 405.0, 60.0, 62.0, 63.0, 80.0, 80.0, 60.0]"
   ]
  },
  {
   "cell_type": "code",
   "execution_count": 12,
   "metadata": {},
   "outputs": [],
   "source": [
    "# Code to read in pokedex info\n",
    "raw_pd = ''\n",
    "pokedex_file = 'pokedex_basic.csv'\n",
    "with open(pokedex_file, 'r') as f:\n",
    "    raw_pd = f.read()\n",
    "    \n",
    "# the pokedex string is assigned to the raw_pd variable"
   ]
  },
  {
   "cell_type": "code",
   "execution_count": 13,
   "metadata": {
    "collapsed": true
   },
   "outputs": [],
   "source": [
    "clean1 = raw_pd.splitlines()\n"
   ]
  },
  {
   "cell_type": "code",
   "execution_count": 14,
   "metadata": {},
   "outputs": [
    {
     "data": {
      "text/plain": [
       "[['\"PokedexNumber\"',\n",
       "  '\"Name\"',\n",
       "  '\"Type\"',\n",
       "  '\"Total\"',\n",
       "  '\"HP\"',\n",
       "  '\"Attack\"',\n",
       "  '\"Defense\"',\n",
       "  '\"SpecialAttack\"',\n",
       "  '\"SpecialDefense\"',\n",
       "  '\"Speed\"'],\n",
       " ['\"001\"',\n",
       "  '\"Bulbasaur\"',\n",
       "  '\"GrassPoison\"',\n",
       "  '\"318\"',\n",
       "  '\"45\"',\n",
       "  '\"49\"',\n",
       "  '\"49\"',\n",
       "  '\"65\"',\n",
       "  '\"65\"',\n",
       "  '\"45\"'],\n",
       " ['\"002\"',\n",
       "  '\"Ivysaur\"',\n",
       "  '\"GrassPoison\"',\n",
       "  '\"405\"',\n",
       "  '\"60\"',\n",
       "  '\"62\"',\n",
       "  '\"63\"',\n",
       "  '\"80\"',\n",
       "  '\"80\"',\n",
       "  '\"60\"'],\n",
       " ['\"003\"',\n",
       "  '\"Venusaur\"',\n",
       "  '\"GrassPoison\"',\n",
       "  '\"525\"',\n",
       "  '\"80\"',\n",
       "  '\"82\"',\n",
       "  '\"83\"',\n",
       "  '\"100\"',\n",
       "  '\"100\"',\n",
       "  '\"80\"'],\n",
       " ['\"003\"',\n",
       "  '\"VenusaurMega Venusaur\"',\n",
       "  '\"GrassPoison\"',\n",
       "  '\"625\"',\n",
       "  '\"80\"',\n",
       "  '\"100\"',\n",
       "  '\"123\"',\n",
       "  '\"122\"',\n",
       "  '\"120\"',\n",
       "  '\"80\"']]"
      ]
     },
     "execution_count": 14,
     "metadata": {},
     "output_type": "execute_result"
    }
   ],
   "source": [
    "# Split each line by commas and assign to , assign to new dataset as clean2 #\n",
    "clean2 = []\n",
    "for i in clean1:\n",
    "    clean2.append(i.split(\",\")) # Split by commas using for-loop #\n",
    "    \n",
    "clean2[:5] # Check first five lines #"
   ]
  },
  {
   "cell_type": "code",
   "execution_count": 15,
   "metadata": {},
   "outputs": [
    {
     "data": {
      "text/plain": [
       "[['PokedexNumber',\n",
       "  'Name',\n",
       "  'Type',\n",
       "  'Total',\n",
       "  'HP',\n",
       "  'Attack',\n",
       "  'Defense',\n",
       "  'SpecialAttack',\n",
       "  'SpecialDefense',\n",
       "  'Speed'],\n",
       " ['001',\n",
       "  'Bulbasaur',\n",
       "  'GrassPoison',\n",
       "  '318',\n",
       "  '45',\n",
       "  '49',\n",
       "  '49',\n",
       "  '65',\n",
       "  '65',\n",
       "  '45'],\n",
       " ['002', 'Ivysaur', 'GrassPoison', '405', '60', '62', '63', '80', '80', '60'],\n",
       " ['003',\n",
       "  'Venusaur',\n",
       "  'GrassPoison',\n",
       "  '525',\n",
       "  '80',\n",
       "  '82',\n",
       "  '83',\n",
       "  '100',\n",
       "  '100',\n",
       "  '80'],\n",
       " ['003',\n",
       "  'VenusaurMega Venusaur',\n",
       "  'GrassPoison',\n",
       "  '625',\n",
       "  '80',\n",
       "  '100',\n",
       "  '123',\n",
       "  '122',\n",
       "  '120',\n",
       "  '80']]"
      ]
     },
     "execution_count": 15,
     "metadata": {},
     "output_type": "execute_result"
    }
   ],
   "source": [
    "# Using for-loop to remove quotation marks, assign to new dataset as clean3 #\n",
    "\n",
    "clean3=[]\n",
    "for row in clean2:\n",
    "    newrow=[]\n",
    "    for cell in row:\n",
    "        newrow.append(cell.replace('\"','')) # Remove quotation marks # \n",
    "    clean3.append(newrow)\n",
    "    \n",
    "clean3[:5] #"
   ]
  },
  {
   "cell_type": "code",
   "execution_count": 16,
   "metadata": {},
   "outputs": [
    {
     "data": {
      "text/plain": [
       "[['PokedexNumber',\n",
       "  'Name',\n",
       "  'Type',\n",
       "  'Total',\n",
       "  'HP',\n",
       "  'Attack',\n",
       "  'Defense',\n",
       "  'SpecialAttack',\n",
       "  'SpecialDefense',\n",
       "  'Speed'],\n",
       " [1.0, 'Bulbasaur', 'GrassPoison', 318.0, 45.0, 49.0, 49.0, 65.0, 65.0],\n",
       " [2.0, 'Ivysaur', 'GrassPoison', 405.0, 60.0, 62.0, 63.0, 80.0, 80.0],\n",
       " [3.0, 'Venusaur', 'GrassPoison', 525.0, 80.0, 82.0, 83.0, 100.0, 100.0],\n",
       " [3.0,\n",
       "  'VenusaurMega Venusaur',\n",
       "  'GrassPoison',\n",
       "  625.0,\n",
       "  80.0,\n",
       "  100.0,\n",
       "  123.0,\n",
       "  122.0,\n",
       "  120.0]]"
      ]
     },
     "execution_count": 16,
     "metadata": {},
     "output_type": "execute_result"
    }
   ],
   "source": [
    "# Using for-loop to remove leading zeros and convert to float, store as clean4 #\n",
    "clean4=[clean3[0]]\n",
    "for row in clean3[1:len(clean3)-1]:\n",
    "    newrow=[]\n",
    "    newrow.append(float(row[0].lstrip('0'))) # Remove Leading zeros and convert to float #\n",
    "    newrow.append(row[1])\n",
    "    newrow.append(row[2])\n",
    "    for cell in row[3:9]:\n",
    "        newrow.append(float(cell))\n",
    "    clean4.append(newrow)\n",
    "clean4[:5] "
   ]
  },
  {
   "cell_type": "code",
   "execution_count": 17,
   "metadata": {
    "collapsed": true
   },
   "outputs": [],
   "source": [
    "clean5 = clean4\n",
    "for row in clean5:\n",
    "    for cell in row:\n",
    "        if cell == 0 or cell=='':\n",
    "            print(cell)\n",
    "# No null or empty values, so will not parse for empty values# "
   ]
  },
  {
   "cell_type": "markdown",
   "metadata": {},
   "source": [
    "<img src=\"http://imgur.com/xDpSobf.png\" style=\"float: left; margin: 25px 15px 0px 0px; height: 25px\">\n",
    "\n",
    "### 8.2 Parse the raw pokedex with list comprehensions\n",
    "\n",
    "---\n",
    "\n",
    "Perform the same parsing as above, but **using only a single list comprehension** instead of for loops. You may have nested list comprehensions within the main list comprehension! The output should be exactly the same."
   ]
  },
  {
   "cell_type": "code",
   "execution_count": 96,
   "metadata": {
    "scrolled": false
   },
   "outputs": [
    {
     "data": {
      "text/plain": [
       "[['PokedexNumber',\n",
       "  'Name',\n",
       "  'Type',\n",
       "  'Total',\n",
       "  'HP',\n",
       "  'Attack',\n",
       "  'Defense',\n",
       "  'SpecialAttack',\n",
       "  'SpecialDefense',\n",
       "  'Speed'],\n",
       " [1.0, 'Bulbasaur', 'GrassPoison', 318.0, 45.0, 49.0, 49.0, 65.0, 65.0, 45.0],\n",
       " [2.0, 'Ivysaur', 'GrassPoison', 405.0, 60.0, 62.0, 63.0, 80.0, 80.0, 60.0],\n",
       " [3.0, 'Venusaur', 'GrassPoison', 525.0, 80.0, 82.0, 83.0, 100.0, 100.0, 80.0],\n",
       " [3.0,\n",
       "  'VenusaurMega Venusaur',\n",
       "  'GrassPoison',\n",
       "  625.0,\n",
       "  80.0,\n",
       "  100.0,\n",
       "  123.0,\n",
       "  122.0,\n",
       "  120.0,\n",
       "  80.0]]"
      ]
     },
     "execution_count": 96,
     "metadata": {},
     "output_type": "execute_result"
    }
   ],
   "source": [
    "raw_pokedex=clean1 #New variable for different method of parsing using list comprehension\n",
    "parsed_pokedex=[[float(cell) if cell.isdigit() else cell.replace('\"','') for cell in row.replace('\"','').split(',')] for row in raw_pokedex]\n",
    "parsed_pokedex[:5] # Check first 5 rows for output # \n"
   ]
  },
  {
   "cell_type": "markdown",
   "metadata": {},
   "source": [
    "<img src=\"http://imgur.com/l5NasQj.png\" style=\"float: left; margin: 25px 15px 0px 0px; height: 25px\">\n",
    "\n",
    "## 9. Write a function to generate the full pokedex\n",
    "\n",
    "---\n",
    "\n",
    "Write a function that recreates the pokedex you made before, but with the data read in from the full pokemon file. The `PokedexNumber` should be used as the `pokemon_id` key values for the dictionary of pokemon.\n",
    "\n",
    "Your function should:\n",
    "\n",
    "1. Take the parsed pokedex information you created above as an argument.\n",
    "2. Return a dictionary in the same format as your original pokedex you created before containing the information from the parsed full pokedex file.\n",
    "\n",
    "To test the function, print out the pokemon with id = 100."
   ]
  },
  {
   "cell_type": "code",
   "execution_count": 47,
   "metadata": {},
   "outputs": [
    {
     "data": {
      "text/plain": [
       "[['PokedexNumber',\n",
       "  'Name',\n",
       "  'Type',\n",
       "  'Total',\n",
       "  'HP',\n",
       "  'Attack',\n",
       "  'Defense',\n",
       "  'SpecialAttack',\n",
       "  'SpecialDefense',\n",
       "  'Speed'],\n",
       " [1, 'Bulbasaur', 'GrassPoison', 318.0, 45.0, 49.0, 49.0, 65.0, 65.0, 45.0],\n",
       " [2, 'Ivysaur', 'GrassPoison', 405.0, 60.0, 62.0, 63.0, 80.0, 80.0, 60.0],\n",
       " [3, 'Venusaur', 'GrassPoison', 525.0, 80.0, 82.0, 83.0, 100.0, 100.0, 80.0],\n",
       " [4,\n",
       "  'VenusaurMega Venusaur',\n",
       "  'GrassPoison',\n",
       "  625.0,\n",
       "  80.0,\n",
       "  100.0,\n",
       "  123.0,\n",
       "  122.0,\n",
       "  120.0,\n",
       "  80.0]]"
      ]
     },
     "execution_count": 47,
     "metadata": {},
     "output_type": "execute_result"
    }
   ],
   "source": [
    "# Clean up duplicate ID by assigning each pokemon a new ID using its list index position#\n",
    "parsed_pokedex_ID=[parsed_pokedex[0]]\n",
    "\n",
    "for i, a in enumerate(parsed_pokedex[1:]):\n",
    "    a[0]=i+1\n",
    "    parsed_pokedex_ID.append(a)\n",
    "\n",
    "parsed_pokedex_ID[:5]"
   ]
  },
  {
   "cell_type": "code",
   "execution_count": 59,
   "metadata": {
    "collapsed": true,
    "scrolled": true
   },
   "outputs": [],
   "source": [
    "def poke_convert(pokedex):\n",
    "    pokemon_dict={}\n",
    "    # Define keys for pokemon dictionary #\n",
    "    keys=['name', 'type', 'hp', 'attack', 'defense', 'special_attack', 'special_defense', 'speed']  \n",
    "    for i, a in enumerate(pokedex[1:],1):\n",
    "        stats=a[1:3]+a[4:] # Re-ordered stats to fit required key order # \n",
    "        pokemon= dict(zip(keys,stats)) # Zipping keys and stats # \n",
    "        pokemon_dict[i]=pokemon \n",
    "    return pokemon_dict"
   ]
  },
  {
   "cell_type": "code",
   "execution_count": 61,
   "metadata": {},
   "outputs": [
    {
     "data": {
      "text/plain": [
       "{'attack': 35.0,\n",
       " 'defense': 30.0,\n",
       " 'hp': 30.0,\n",
       " 'name': 'Gastly',\n",
       " 'special_attack': 100.0,\n",
       " 'special_defense': 35.0,\n",
       " 'speed': 80.0,\n",
       " 'type': 'GhostPoison'}"
      ]
     },
     "execution_count": 61,
     "metadata": {},
     "output_type": "execute_result"
    }
   ],
   "source": [
    "# Check if query works for pokemon with ids with multiple pokemon, id=3 #\n",
    "converted_pokedex=poke_convert(parsed_pokedex_ID)\n",
    "# Print dictionary for pokemon ID = 100 # \n",
    "converted_pokedex[100]"
   ]
  },
  {
   "cell_type": "markdown",
   "metadata": {},
   "source": [
    "<img src=\"http://i.imgur.com/GCAf1UX.png\" style=\"float: left; margin: 25px 15px 0px 0px; height: 25px\">\n",
    "\n",
    "## 10. Write a function to generate a \"filtered\" pokedex\n",
    "---\n",
    "Your function should:\n",
    "1. Take the parsed pokedex information you created above as an argument.\n",
    "1. Take a dictionary as a parameter with keys matching the features of the Pokedex, filtering by exact match for string type values, and/or filter continuous variables specified value that is greater than or equal to the dictionary key parameter.\n",
    "1. Return multiple elements from the Pokedex\n",
    "\n",
    "Example:\n",
    "\n",
    "```python\n",
    "\n",
    "# Only filter based on parameters passed\n",
    "filter_options = {\n",
    "    'Attack':   25,\n",
    "    'Defense':  30,\n",
    "    'Type':     'Electric'\n",
    "}\n",
    "\n",
    "# Return records with attack >= 24, defense >= 30, and type == \"Electric\"\n",
    "# Also anticipate that other paramters can also be passed such as \"SpecialAttack\", \"Speed\", etc.\n",
    "filtered_pokedex(pokedex_data, filter=filter_options)\n",
    "\n",
    "# Example output:\n",
    "# [{'Attack': 30.0,\n",
    "#  'Defense': 50.0,\n",
    "#  'HP': 40.0,\n",
    "#  'Name': 'Voltorb',\n",
    "#  'SpecialAttack': 55.0,\n",
    "#  'SpecialDefense': 55.0,\n",
    "#  'Speed': 100.0,\n",
    "#  'Total': 330.0,\n",
    "#  'Type': 'Electric'},\n",
    "#  {'Attack': 30.0,\n",
    "#  'Defense': 33.0,\n",
    "#  'HP': 32.0,\n",
    "#  'Name': 'Pikachu',\n",
    "#  'SpecialAttack': 55.0,\n",
    "#  'SpecialDefense': 55.0,\n",
    "#  'Speed': 100.0,\n",
    "#  'Total': 330.0,\n",
    "#  'Type': 'Electric'},\n",
    "#  ... etc\n",
    "#  ]\n",
    "\n",
    "```\n",
    "\n"
   ]
  },
  {
   "cell_type": "code",
   "execution_count": 69,
   "metadata": {
    "collapsed": true
   },
   "outputs": [],
   "source": [
    "def filtered_pokedex(pokedex_data,param):\n",
    "    results=[]\n",
    "    keys=['Attack','Defense','HP','Name','SpecialAttack','SpecialDefense','Speed','Total','Type'] # Keys for dictionary #\n",
    "    for a in pokedex_data[1:]:\n",
    "        pokemon=a[5:7]+[a[4]]+[a[1]]+a[7:10]+[a[3]]+[a[2]] #Re-order to fit desired output #\n",
    "        pokemon_dict=dict(zip(keys,pokemon)) #Creating a dictionary for the a-th pokemon to match against the filter parameters #\n",
    "        num_matches=0\n",
    "        for i in param.keys():\n",
    "            if (isinstance(pokemon_dict[i],float) and pokemon_dict[i]>=param[i]) or (isinstance(pokemon_dict[i],str)and pokemon_dict[i]==param[i]):\n",
    "                num_matches+=1 # Add 1 to number of matches if string matches exactly, or if value is greater than given #\n",
    "        if num_matches == len(param.keys()): # Check if all criteria are fulfilled ## \n",
    "            results.append(pokemon_dict)\n",
    "    return results\n",
    "    \n",
    "                \n",
    "        "
   ]
  },
  {
   "cell_type": "code",
   "execution_count": 36,
   "metadata": {},
   "outputs": [
    {
     "data": {
      "text/plain": [
       "[{'Attack': 49.0,\n",
       "  'Defense': 49.0,\n",
       "  'HP': 45.0,\n",
       "  'Name': 'Bulbasaur',\n",
       "  'SpecialAttack': 65.0,\n",
       "  'SpecialDefense': 65.0,\n",
       "  'Speed': 45.0,\n",
       "  'Total': 318.0,\n",
       "  'Type': 'GrassPoison'}]"
      ]
     },
     "execution_count": 36,
     "metadata": {},
     "output_type": "execute_result"
    }
   ],
   "source": [
    "#Test on filter parameters given# \n",
    "filter_options = {\n",
    "    'Attack':   10,\n",
    "    'Defense':  30,\n",
    "    'Name': 'Bulbasaur',\n",
    "}\n",
    "\n",
    "filtered_pokedex(parsed_pokedex_ID,filter_options)\n"
   ]
  },
  {
   "cell_type": "markdown",
   "metadata": {
    "collapsed": true
   },
   "source": [
    "\n",
    "## 9. Descriptive statistics on the prototype pokedex\n",
    "\n",
    "<img src=\"http://imgur.com/l5NasQj.png\" style=\"float: left; margin: 25px 15px 0px 0px; height: 25px\">\n",
    "### 9.1\n",
    "\n",
    "What is the population mean and standard deviation of the \"Total\" attribute for all characters in the Pokedex?\n",
    "\n"
   ]
  },
  {
   "cell_type": "code",
   "execution_count": 62,
   "metadata": {},
   "outputs": [
    {
     "name": "stdout",
     "output_type": "stream",
     "text": [
      "Mean for \"Total\" attribute is 435.1275 and Standard Deviation is 119.962020005\n"
     ]
    }
   ],
   "source": [
    "import numpy as np\n",
    "total_list=[a[3] for a in parsed_pokedex_ID[1:]] # List comprehension to give a list of \"Total\" scores\n",
    "print('Mean for \"Total\" attribute is ' + str(np.mean(total_list)) + ' and Standard Deviation is '+ str(np.std(total_list)))\n",
    "\n"
   ]
  },
  {
   "cell_type": "markdown",
   "metadata": {},
   "source": [
    "<img src=\"http://imgur.com/l5NasQj.png\" style=\"float: left; margin: 25px 15px 0px 0px; height: 25px\">\n",
    "### 9.2\n",
    "\n",
    "The game is no fun if the characters are wildly unbalanced! Are any characters \"overpowered\", which we'll define as having a \"Total\" more than three standard deviations from the population mean?"
   ]
  },
  {
   "cell_type": "code",
   "execution_count": 63,
   "metadata": {},
   "outputs": [
    {
     "data": {
      "text/plain": [
       "{'MewtwoMega Mewtwo X': 800.0}"
      ]
     },
     "execution_count": 63,
     "metadata": {},
     "output_type": "execute_result"
    }
   ],
   "source": [
    "values_only=parsed_pokedex_ID[1:] # Getting the data without headers #\n",
    "upper_bound=np.mean(total_list)+3*np.std(total_list) # mean + 3 std # \n",
    "overpowered_dict={a[1]:a[3] for a in values_only if a[3]>upper_bound} # Dict comprehension to give key:value pair of total score above upper bound of 3 sd above mean #\n",
    "overpowered_dict"
   ]
  },
  {
   "cell_type": "markdown",
   "metadata": {},
   "source": [
    "<img src=\"http://imgur.com/xDpSobf.png\" style=\"float: left; margin: 25px 15px 0px 0px; height: 25px\">\n",
    "\n",
    "## 10. Calibrate the frequency of Pokemon\n",
    "\n",
    "The design team wants you to make the powerful Pokemon rare, and the weaklings more common. How would you set the probability $p_i$ of finding Pokemon *i* each time a player visits a gym?\n",
    "\n",
    "Write a function that takes in a Pokedex number and returns a value $p_i$ for that character.\n",
    "\n",
    "Hint: there are many ways you could do this. What do _you_ think makes sense? Start with simplifying assumptions: for example, you could assume that the probabilities of encountering any two Pokemon on one visit to a gym are independent of each other."
   ]
  },
  {
   "cell_type": "code",
   "execution_count": 64,
   "metadata": {
    "collapsed": true
   },
   "outputs": [],
   "source": [
    "import matplotlib.pyplot as plt\n",
    "import seaborn as sns\n",
    "%matplotlib inline"
   ]
  },
  {
   "cell_type": "code",
   "execution_count": 65,
   "metadata": {},
   "outputs": [
    {
     "data": {
      "text/plain": [
       "(array([  31.,   94.,  144.,  102.,  137.,  170.,   76.,   18.,   23.,    5.]),\n",
       " array([ 180.,  242.,  304.,  366.,  428.,  490.,  552.,  614.,  676.,\n",
       "         738.,  800.]),\n",
       " <a list of 10 Patch objects>)"
      ]
     },
     "execution_count": 65,
     "metadata": {},
     "output_type": "execute_result"
    },
    {
     "data": {
      "image/png": "[encoded data removed]",
      "text/plain": [
       "<matplotlib.figure.Figure at 0x1a19799278>"
      ]
     },
     "metadata": {},
     "output_type": "display_data"
    }
   ],
   "source": [
    "# Plotting to see distribution of how powerful pokemon are, by total score # \n",
    "\n",
    "sns.plt.hist(total_list)"
   ]
  },
  {
   "cell_type": "markdown",
   "metadata": {},
   "source": [
    "The \"weak\" pokemon should appear less frequently, so $P_i$ should have an inverse relationship with $T_i$ where $T_i$ is the total of all attributes for the $i$-th pokemon. \n",
    "\n",
    "By frequency of appearance in the main pokedex, there are most pokemon that exist within the 300-600 range by \"Total\". We therefore cannot use a simple uniform distribution to model the occurence, ie. all pokemon are equally likely to appear. Instead, we should use function to map the $T$ to $P$ where $P$ is inversely related to $T$, and $P \\in (0,1)$\n",
    "\n",
    "We also assume the probability of encountering any pokemon is independent of encountering another."
   ]
  },
  {
   "cell_type": "code",
   "execution_count": 66,
   "metadata": {},
   "outputs": [
    {
     "name": "stdout",
     "output_type": "stream",
     "text": [
      "0.5555555555555556 0.125\n"
     ]
    }
   ],
   "source": [
    "# Testing a transformation # \n",
    "\n",
    "# Exponential Transform#\n",
    "total_list_exp_transformed=[100/a for a in total_list] # Scale chosen to be 100,#\n",
    "print(max(total_list_exp_transformed),min(total_list_exp_transformed)) #See if P lies between 0 and 1 #\n",
    "\n"
   ]
  },
  {
   "cell_type": "code",
   "execution_count": 67,
   "metadata": {},
   "outputs": [
    {
     "data": {
      "text/plain": [
       "<matplotlib.collections.PathCollection at 0x1a1d593f60>"
      ]
     },
     "execution_count": 67,
     "metadata": {},
     "output_type": "execute_result"
    },
    {
     "data": {
      "image/png": "[encoded data removed]",
      "text/plain": [
       "<matplotlib.figure.Figure at 0x1a1d4c4ef0>"
      ]
     },
     "metadata": {},
     "output_type": "display_data"
    }
   ],
   "source": [
    "# Visually inspect distribution of P vs T # \n",
    "sns.plt.scatter(total_list,total_list_exp_transformed)\n"
   ]
  },
  {
   "cell_type": "markdown",
   "metadata": {},
   "source": [
    "Transformation generates values between 0 and 1 and probability tails off for values towards the upper ranges of total scores. We feel comfortable enough to go with the exponential transform."
   ]
  },
  {
   "cell_type": "code",
   "execution_count": 95,
   "metadata": {
    "collapsed": true
   },
   "outputs": [],
   "source": [
    "def gen_probability(pokedex,pokedex_id):\n",
    "    try:\n",
    "        id_match= [a[0] for a in pokedex].index(pokedex_id) # Return the location in the list of lists where there is a match for the pokemon #\n",
    "    except ValueError:\n",
    "        print('Try a different pokemon ID') # If pokemon ID does not exist, will print error #\n",
    "    prob_id_name=(100/pokedex[id_match][3],pokedex_id,pokedex[id_match][1]) # Generate a tuple of (probability, Pokemon ID, Name of Pokemon) #\n",
    "    print('The probability of encountering a ' + prob_id_name[2] + ' is ' + str(prob_id_name[0]))\n",
    "    return prob_id_name \n"
   ]
  },
  {
   "cell_type": "code",
   "execution_count": 94,
   "metadata": {},
   "outputs": [
    {
     "name": "stdout",
     "output_type": "stream",
     "text": [
      "The probability of encountering a Cobalion is 0.1724137931034483\n"
     ]
    },
    {
     "data": {
      "text/plain": [
       "(0.1724137931034483, 700, 'Cobalion')"
      ]
     },
     "execution_count": 94,
     "metadata": {},
     "output_type": "execute_result"
    }
   ],
   "source": [
    "gen_probability(parsed_pokedex_ID,700)"
   ]
  }
 ],
 "metadata": {
  "anaconda-cloud": {},
  "kernelspec": {
   "display_name": "Python 3",
   "language": "python",
   "name": "python3"
  },
  "language_info": {
   "codemirror_mode": {
    "name": "ipython",
    "version": 3
   },
   "file_extension": ".py",
   "mimetype": "text/x-python",
   "name": "python",
   "nbconvert_exporter": "python",
   "pygments_lexer": "ipython3",
   "version": "3.6.2"
  }
 },
 "nbformat": 4,
 "nbformat_minor": 1
}
